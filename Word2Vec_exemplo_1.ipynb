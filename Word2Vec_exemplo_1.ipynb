{
  "nbformat": 4,
  "nbformat_minor": 0,
  "metadata": {
    "colab": {
      "name": "Word2Vec_exemplo_1.ipynb",
      "provenance": [],
      "machine_shape": "hm",
      "mount_file_id": "1bZ75Zg08E9qCuR01BxQJrwS1rOICyOS3",
      "authorship_tag": "ABX9TyN2MtcHrrSwKy/vTi1xNHCP",
      "include_colab_link": true
    },
    "kernelspec": {
      "name": "python3",
      "display_name": "Python 3"
    },
    "language_info": {
      "name": "python"
    },
    "accelerator": "TPU"
  },
  "cells": [
    {
      "cell_type": "markdown",
      "metadata": {
        "id": "view-in-github",
        "colab_type": "text"
      },
      "source": [
        "<a href=\"https://colab.research.google.com/github/EddyGiusepe/Word2Vec_exemplo_1/blob/main/Word2Vec_exemplo_1.ipynb\" target=\"_parent\"><img src=\"https://colab.research.google.com/assets/colab-badge.svg\" alt=\"Open In Colab\"/></a>"
      ]
    },
    {
      "cell_type": "markdown",
      "metadata": {
        "id": "p4YsURrPJ1WX"
      },
      "source": [
        "# <h2 align='center'>**Python | Word Embedding using Word2Vec**</h2> \n",
        "\n",
        "\\\\\n",
        "**Cientista de Dados Jr.:**  Dr.Eddy Giusepe Chirinos Isidro\n",
        "\n",
        "\n",
        "link de estudo: [CLICK AQUI](https://www.geeksforgeeks.org/python-word-embedding-using-word2vec/)\n"
      ]
    },
    {
      "cell_type": "markdown",
      "metadata": {
        "id": "ESgBT44KJ1UA"
      },
      "source": [
        "<font color=\"yellow\">Word Embedding</font> é uma técnica de modelagem de linguagem usada para mapear palavras em vetores de números reais. Representa palavras ou frases no espaço vetorial com várias dimensões. Embeddings de palavras podem ser gerados usando vários métodos, como redes neurais, matriz de co-ocorrência, modelos probabilísticos, etc.\n",
        "\n",
        "\n",
        "\\\\\n",
        "<font color=\"yellow\">Word2Vec</font> consiste em modelos para gerar incorporação de palavras. Esses modelos são redes neurais superficiais de duas camadas com uma camada de entrada, uma camada oculta e uma camada de saída. Word2Vec utiliza duas arquiteturas:"
      ]
    },
    {
      "cell_type": "markdown",
      "metadata": {
        "id": "7aekvgtzJ1RS"
      },
      "source": [
        "**CBOW (Continuous Bag of Words):**\n",
        "\n",
        "o modelo CBOW prevê a palavra atual dadas as palavras de contexto dentro de uma janela específica. A camada de entrada contém as palavras de contexto e a camada de saída contém a palavra atual. A camada oculta contém o número de dimensões nas quais queremos representar a palavra atual presente na camada de saída.\n",
        "\n",
        "\n",
        "\\\\\n",
        "**Skip Gram:** \n",
        "\n",
        "Skip grama prevê as palavras de contexto circundantes dentro de uma janela específica dada a palavra atual. A camada de entrada contém a palavra atual e a camada de saída contém as palavras do contexto. A camada oculta contém o número de dimensões nas quais queremos representar a palavra atual presente na camada de entrada.\n",
        "\n",
        "\\\\\n",
        "A ideia básica da incorporação de palavras é que palavras que ocorrem em contextos semelhantes tendem a estar mais próximas umas das outras no espaço vetorial. Para gerar vetores de palavras em Python, os módulos necessários são nltk e gensim.\n",
        "\n"
      ]
    },
    {
      "cell_type": "code",
      "metadata": {
        "colab": {
          "base_uri": "https://localhost:8080/"
        },
        "id": "iKCoNiEPJu3N",
        "outputId": "5670b97c-50e6-4b44-ba31-86aa1b381664"
      },
      "source": [
        "!pip install nltk"
      ],
      "execution_count": 1,
      "outputs": [
        {
          "output_type": "stream",
          "name": "stdout",
          "text": [
            "Requirement already satisfied: nltk in /usr/local/lib/python3.7/dist-packages (3.2.5)\n",
            "Requirement already satisfied: six in /usr/local/lib/python3.7/dist-packages (from nltk) (1.15.0)\n"
          ]
        }
      ]
    },
    {
      "cell_type": "code",
      "metadata": {
        "colab": {
          "base_uri": "https://localhost:8080/"
        },
        "id": "gfvpxKeoM57Z",
        "outputId": "658cf4f3-c686-4b31-c92c-aadf30bc2c2e"
      },
      "source": [
        "!pip install gensim"
      ],
      "execution_count": 2,
      "outputs": [
        {
          "output_type": "stream",
          "name": "stdout",
          "text": [
            "Requirement already satisfied: gensim in /usr/local/lib/python3.7/dist-packages (3.6.0)\n",
            "Requirement already satisfied: numpy>=1.11.3 in /usr/local/lib/python3.7/dist-packages (from gensim) (1.19.5)\n",
            "Requirement already satisfied: scipy>=0.18.1 in /usr/local/lib/python3.7/dist-packages (from gensim) (1.4.1)\n",
            "Requirement already satisfied: six>=1.5.0 in /usr/local/lib/python3.7/dist-packages (from gensim) (1.15.0)\n",
            "Requirement already satisfied: smart-open>=1.2.1 in /usr/local/lib/python3.7/dist-packages (from gensim) (5.2.1)\n"
          ]
        }
      ]
    },
    {
      "cell_type": "markdown",
      "metadata": {
        "id": "NtuhgC4xNmyO"
      },
      "source": [
        "## Python program to generate word vectors using Word2Vec\n",
        "\n"
      ]
    },
    {
      "cell_type": "code",
      "metadata": {
        "colab": {
          "base_uri": "https://localhost:8080/"
        },
        "id": "H-X9T37FNAC3",
        "outputId": "3a728469-ae21-48a3-bf57-8fb66610ba51"
      },
      "source": [
        "# Importing all necessary modules\n",
        "\n",
        "from nltk.tokenize import word_tokenize\n",
        "from nltk.tokenize import sent_tokenize\n",
        "import warnings\n",
        "import numpy as np\n",
        "import gensim\n",
        "from gensim.models import Word2Vec\n",
        "\n",
        "# Resource punkt not found. Please use the NLTK Downloader to obtain the resource:\n",
        "import nltk\n",
        "nltk.download('punkt')"
      ],
      "execution_count": 20,
      "outputs": [
        {
          "output_type": "stream",
          "name": "stdout",
          "text": [
            "[nltk_data] Downloading package punkt to /root/nltk_data...\n",
            "[nltk_data]   Package punkt is already up-to-date!\n"
          ]
        },
        {
          "output_type": "execute_result",
          "data": {
            "text/plain": [
              "True"
            ]
          },
          "metadata": {},
          "execution_count": 20
        }
      ]
    },
    {
      "cell_type": "code",
      "metadata": {
        "id": "NABHFd8FN-d_"
      },
      "source": [
        "warnings.filterwarnings(action = 'ignore')"
      ],
      "execution_count": 21,
      "outputs": []
    },
    {
      "cell_type": "code",
      "metadata": {
        "id": "CmWVY_SrOBWm"
      },
      "source": [
        "#  Reads ‘alice.txt’ file\n",
        "\n",
        "sample = open(\"/content/drive/MyDrive/2_DEEP LEARNING REDES NEURAIS -- Jorge/text_classification_Word2Vec_Eddy/alice.txt\", \"r\")\n",
        "s = sample.read()\n"
      ],
      "execution_count": 22,
      "outputs": []
    },
    {
      "cell_type": "code",
      "metadata": {
        "id": "9dJo3AaNQYbE"
      },
      "source": [
        "# Replaces escape character with space\n",
        "f = s.replace(\"\\n\", \" \")"
      ],
      "execution_count": 23,
      "outputs": []
    },
    {
      "cell_type": "code",
      "metadata": {
        "id": "uC4Wo1iYTG4j"
      },
      "source": [
        "data = list()\n",
        "\n",
        "# Iterate through each sentence in the file\n",
        "for i in sent_tokenize(f):\n",
        "  temp = list()\n",
        "  # tokenize the sentence into words\n",
        "  for j in word_tokenize(i):\n",
        "    temp.append(j.lower())\n",
        "\n",
        "    data.append(temp)"
      ],
      "execution_count": 24,
      "outputs": []
    },
    {
      "cell_type": "code",
      "metadata": {
        "id": "l41gxHeZRDdI"
      },
      "source": [
        "# Create CBOW model\n",
        "model1 = gensim.models.Word2Vec(data, min_count = 1, \n",
        "                              size = 1000, window = 5)"
      ],
      "execution_count": 32,
      "outputs": []
    },
    {
      "cell_type": "code",
      "metadata": {
        "colab": {
          "base_uri": "https://localhost:8080/"
        },
        "id": "7FBuMZfaU8Ts",
        "outputId": "e03db868-0127-403b-dc0b-6811683bc9bf"
      },
      "source": [
        "# Print results\n",
        "print(\"Cosine similarity between 'alice' \" + \"and 'wonderland' - CBOW : \", model1.similarity('alice', 'wonderland'))"
      ],
      "execution_count": 33,
      "outputs": [
        {
          "output_type": "stream",
          "name": "stdout",
          "text": [
            "Cosine similarity between 'alice' and 'wonderland' - CBOW :  0.12281376\n"
          ]
        }
      ]
    },
    {
      "cell_type": "code",
      "metadata": {
        "colab": {
          "base_uri": "https://localhost:8080/"
        },
        "id": "cPTHake0VW9L",
        "outputId": "0aa39f16-b63e-422d-ba2d-a03c875c1139"
      },
      "source": [
        "print(\"Cosine similarity between 'alice' \" + \"and 'machines' - CBOW : \", model1.similarity('alice', 'machines'))"
      ],
      "execution_count": 34,
      "outputs": [
        {
          "output_type": "stream",
          "name": "stdout",
          "text": [
            "Cosine similarity between 'alice' and 'machines' - CBOW :  0.053028\n"
          ]
        }
      ]
    },
    {
      "cell_type": "code",
      "metadata": {
        "id": "-aVkRZ-WVxnJ"
      },
      "source": [
        "# Create Skip Gram model\n",
        "model2 = gensim.models.Word2Vec(data, min_count = 1, size = 100,\n",
        "                                             window = 5, sg = 1)"
      ],
      "execution_count": 35,
      "outputs": []
    },
    {
      "cell_type": "code",
      "metadata": {
        "colab": {
          "base_uri": "https://localhost:8080/"
        },
        "id": "NlgktPSTV6TT",
        "outputId": "18d3c13e-1436-4d9a-ec12-0dadbf0ed5a0"
      },
      "source": [
        "# Print results\n",
        "print(\"Cosine similarity between 'alice' \" +\n",
        "          \"and 'wonderland' - Skip Gram : \",\n",
        "    model2.similarity('alice', 'wonderland'))"
      ],
      "execution_count": 36,
      "outputs": [
        {
          "output_type": "stream",
          "name": "stdout",
          "text": [
            "Cosine similarity between 'alice' and 'wonderland' - Skip Gram :  0.17074534\n"
          ]
        }
      ]
    },
    {
      "cell_type": "code",
      "metadata": {
        "colab": {
          "base_uri": "https://localhost:8080/"
        },
        "id": "Q338gHygWBLa",
        "outputId": "ca45e87a-0aad-4799-9f64-cc66853f7f56"
      },
      "source": [
        "print(\"Cosine similarity between 'alice' \" +\n",
        "            \"and 'machines' - Skip Gram : \",\n",
        "      model2.similarity('alice', 'machines'))"
      ],
      "execution_count": 37,
      "outputs": [
        {
          "output_type": "stream",
          "name": "stdout",
          "text": [
            "Cosine similarity between 'alice' and 'machines' - Skip Gram :  0.17908221\n"
          ]
        }
      ]
    },
    {
      "cell_type": "markdown",
      "metadata": {
        "id": "9RsyNY8AWqv7"
      },
      "source": [
        "Output indicates the cosine similarities between word vectors ‘alice’, ‘wonderland’ and ‘machines’ for different models. One interesting task might be to change the parameter values of ‘size’ and ‘window’ to observe the variations in the cosine similarities."
      ]
    },
    {
      "cell_type": "code",
      "metadata": {
        "id": "dsh2i19xWGO-"
      },
      "source": [
        ""
      ],
      "execution_count": null,
      "outputs": []
    }
  ]
}